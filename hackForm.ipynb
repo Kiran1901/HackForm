{
 "cells": [
  {
   "cell_type": "code",
   "execution_count": 3,
   "metadata": {},
   "outputs": [],
   "source": [
    "import pandas as pd\n",
    "import csv"
   ]
  },
  {
   "cell_type": "code",
   "execution_count": 4,
   "metadata": {},
   "outputs": [],
   "source": [
    "height = 730\n",
    "width = 600\n",
    "\n",
    "fields = []"
   ]
  },
  {
   "cell_type": "code",
   "execution_count": 5,
   "metadata": {},
   "outputs": [
    {
     "name": "stdout",
     "output_type": "stream",
     "text": [
      "    type  top  left  height  width\n",
      "0  label  327    28      14     52\n",
      "1  label  326   345      16     57\n",
      "2  label  373    29      15     73\n",
      "3  label  373   342      15     27\n",
      "4  label  372   444      16     46\n"
     ]
    }
   ],
   "source": [
    "csv_reader = pd.read_csv('data.csv')\n",
    "print(csv_reader.head())\n",
    "df = csv_reader"
   ]
  },
  {
   "cell_type": "code",
   "execution_count": 9,
   "metadata": {},
   "outputs": [
    {
     "name": "stdout",
     "output_type": "stream",
     "text": [
      "     type  top  left  height  width group\n",
      "0   label  289    30      16     63   NaN\n",
      "1   label  326   345      16     57   NaN\n",
      "2   label  327    28      14     52   NaN\n",
      "3   label  372   444      16     46   NaN\n",
      "4   label  373    29      15     73   NaN\n",
      "5   label  373   342      15     27   NaN\n",
      "6   label  410    30      16     75   NaN\n",
      "7   label  410   316      16     98   NaN\n",
      "8   label  447    29      16     30   NaN\n",
      "9   label  473    27      17    225   NaN\n",
      "10  label  473   310      13     34   NaN\n",
      "11  label  474   385      13     29   NaN\n",
      "12  label  510    30      16    252   NaN\n",
      "13  label  537    48      18    169   NaN\n",
      "14  label  538   431      17    143   NaN\n",
      "15  label  539   247      14    151   NaN\n",
      "16  label  574    29      14    268   NaN\n",
      "17  label  606   337      22    116   NaN\n",
      "18  label  610    46      15     99   NaN\n",
      "19  label  644   333      17    121   NaN\n",
      "20  label  647    47      14     98   NaN\n",
      "21  label  672    29      17    141   NaN\n",
      "     type  top  left  height  width group\n",
      "0   field  308   404      32    169   NaN\n",
      "1   field  310    88      30    245   NaN\n",
      "2   field  357   108      30    224   NaN\n",
      "3   field  357   372      26     61   NaN\n",
      "4   field  358   498      28     75   NaN\n",
      "5   field  398   112      26    184   NaN\n",
      "6   field  398   421      26    150   NaN\n",
      "7   field  435    64      31    509   NaN\n",
      "8   field  596   152      25    111   NaN\n",
      "9   field  597   461      26    109   NaN\n",
      "10  field  632   150      29    118   NaN\n",
      "11  field  634   459      25    115   NaN\n"
     ]
    }
   ],
   "source": [
    "labelsdf = df[df.type=='label'].sort_values(by=['top','left']).reset_index(drop=True)\n",
    "labelsdf['group'] = 'NaN'\n",
    "print(labelsdf)\n",
    "fieldsdf = df[df.type=='field'].sort_values(by=['top','left']).reset_index(drop=True)\n",
    "fieldsdf['group'] = 'NaN'\n",
    "print(fieldsdf)\n",
    "checkboxesdf = df[df.type=='checkbox'].sort_values(by=['top','left']).reset_index(drop=True)\n",
    "checkboxesdf['group'] ='NaN'\n",
    "# print(checkboxesdf)"
   ]
  },
  {
   "cell_type": "code",
   "execution_count": null,
   "metadata": {},
   "outputs": [],
   "source": [
    "min_field_height = fieldsdf['height'].min()\n",
    "print(min_field_height)\n",
    "max_field_height = fieldsdf['height'].max()\n",
    "print(max_field_height)"
   ]
  },
  {
   "cell_type": "code",
   "execution_count": null,
   "metadata": {},
   "outputs": [],
   "source": [
    "structure = -1   # 0: horizontal (Fields are beside labels)  1: vertical  -1: not set\n",
    "i = 0; j=0\n"
   ]
  },
  {
   "cell_type": "code",
   "execution_count": null,
   "metadata": {},
   "outputs": [],
   "source": [
    "def isFieldInRight(i,j):\n",
    "    if(labelsdf['left'][i]+labelsdf['width'][i] <= fieldsdf['left'][j]):\n",
    "        if(fieldsdf['top'][j]+fieldsdf['height'][j] >= labelsdf['top'][i]+labelsdf['height'][i] and fieldsdf['top'][j] <= labelsdf['top'][i]+labelsdf['height'][i]):\n",
    "            # field is found at the right side with proper place\n",
    "            return True\n",
    "    return False\n",
    "\n",
    "def isFieldBelow(i,j):\n",
    "    if(labelsdf['top'][i]+labelsdf['height'][i] <= fieldsdf['top'][j]):\n",
    "        if(fieldsdf['left'][j] <= labelsdf['left'][i] and fieldsdf['left'][j]+fieldsdf['width'][j] >= labelsdf['left'][i]+labelsdf['width'][i]):\n",
    "            # field is found below \n",
    "            return True\n",
    "    return False\n",
    "\n",
    "def isLabelInRight(i):\n",
    "    if(i<labelsdf.count-1):\n",
    "        if(labelsdf['left'][i]+labelsdf['width'][i] < labelsdf['left'][i+1]):\n",
    "            if(labelsdf['top'][i]+labelsdf['height'][i] >= labelsdf['top'][i+1] and labelsdf['top'][i+1]+labelsdf['height'][i+1] > labelsdf['top'][i]):\n",
    "                # label is found at the right side with proper place\n",
    "                return True\n",
    "    return False\n",
    "    \n",
    "def isLabelBelow(i):\n",
    "    if(i<labelsdf.count-1):\n",
    "        if(labelsdf['top'][i]+labelsdf['height'][i] < labelsdf['top'][i+1]):\n",
    "            if(labelsdf['left'][i] <= labelsdf['left'][i+1]+labelsdf['width'][i+1] and labelsdf['left'][i]+labelsdf['width'][i] > labelsdf['left'][i+1]):\n",
    "                # field is found below \n",
    "                return True\n",
    "    return False\n",
    "    "
   ]
  },
  {
   "cell_type": "code",
   "execution_count": 10,
   "metadata": {},
   "outputs": [],
   "source": [
    "def decideStructure(i,j):\n",
    "    if(isFieldInRight(i,j) and isLabelBelow(i,j)):\n",
    "        structure=0\n",
    "    if(isLabelBelow(i,j) and isFieldInRight(i,j)):\n",
    "        structure=1"
   ]
  },
  {
   "cell_type": "code",
   "execution_count": null,
   "metadata": {},
   "outputs": [],
   "source": [
    "def elementsInRows(i,j):\n",
    "    labels=0;fields=0\n",
    "    while(labelsdf['left'][i]+labelsdf['width'][i]<600):\n",
    "        "
   ]
  }
 ],
 "metadata": {
  "kernelspec": {
   "display_name": "Python 3",
   "language": "python",
   "name": "python3"
  },
  "language_info": {
   "codemirror_mode": {
    "name": "ipython",
    "version": 3
   },
   "file_extension": ".py",
   "mimetype": "text/x-python",
   "name": "python",
   "nbconvert_exporter": "python",
   "pygments_lexer": "ipython3",
   "version": "3.7.1"
  }
 },
 "nbformat": 4,
 "nbformat_minor": 2
}
